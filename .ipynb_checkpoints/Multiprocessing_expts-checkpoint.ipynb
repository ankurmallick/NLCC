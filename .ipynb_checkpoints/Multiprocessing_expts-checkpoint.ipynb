{
 "cells": [
  {
   "cell_type": "code",
   "execution_count": 1,
   "metadata": {},
   "outputs": [],
   "source": [
    "import numpy as np\n",
    "import scipy.stats as st\n",
    "from multiprocessing import Pool\n",
    "import time\n",
    "import os\n",
    "import pickle\n",
    "import matplotlib.pyplot as plt\n",
    "from encoders import rep_enc, bcc_enc, lt_enc, sr_enc\n",
    "from decoders import rep_dec, bcc_dec, lt_dec, sr_dec\n",
    "# from time_analytics import lt_ana, mds_ana, rep_ana, get_worker_info\n",
    "# from decoders import lt_dec, mds_dec, rep_dec"
   ]
  },
  {
   "cell_type": "code",
   "execution_count": 2,
   "metadata": {},
   "outputs": [],
   "source": [
    "def worker_func(worker_args):\n",
    "    \n",
    "    #Worker receives (X,enc_list,seed)\n",
    "    \n",
    "    #Worker initializes x according to the seed\n",
    "    \n",
    "    #Worker computes exp (-||X_i - x||^2) for i specified by the scheme\n",
    "    \n",
    "    pid = os.getpid()\n",
    "    X, enc_list, seed_ind = worker_args\n",
    "    np.random.seed(seed_ind)\n",
    "    x = np.random.uniform(low=0, high=10, size = X.shape[1])\n",
    "    worker_results = []\n",
    "    \n",
    "    start_time = time.process_time()\n",
    "    \n",
    "    for enc_sym in enc_list:\n",
    "        \n",
    "        f_enc = 0\n",
    "        for i in enc_sym:\n",
    "            e = np.sum(np.square(x - X[i]))\n",
    "            f_enc += np.exp(0-e)\n",
    "            \n",
    "        t = time.process_time()\n",
    "        worker_results.append((t,enc_sym,f_enc))\n",
    "            \n",
    "    return pid, start_time, worker_results"
   ]
  },
  {
   "cell_type": "code",
   "execution_count": 3,
   "metadata": {},
   "outputs": [],
   "source": [
    "def one_comp(scheme_time, scheme_comp):\n",
    "    \n",
    "    #Directly compute sum of exp (-||X_i - x||^2) for all i\n",
    "    \n",
    "    scheme = 'One'\n",
    "    \n",
    "    for i in range(num_iters):\n",
    "\n",
    "        np.random.seed(i)\n",
    "        x = np.random.uniform(low=0, high=10, size = X.shape[1])\n",
    "        results = []\n",
    "        \n",
    "        start_time = time.process_time()\n",
    "        \n",
    "        F = 0\n",
    "        \n",
    "        for i in range(X.shape[0]):\n",
    "            e = np.sum(np.square(x - X[i]))\n",
    "            F += np.exp(0-e)\n",
    "\n",
    "        stop_time = time.process_time()\n",
    "        \n",
    "        scheme_times[scheme].append(stop_time - start_time)\n",
    "        scheme_comps[scheme].append(num_workers)"
   ]
  },
  {
   "cell_type": "code",
   "execution_count": 4,
   "metadata": {},
   "outputs": [],
   "source": [
    "schemes_list = ['SR','LT','One','Unc','Rep','BCC']\n",
    "# schemes_list = ['One','Unc','Rep','BCC']"
   ]
  },
  {
   "cell_type": "code",
   "execution_count": 5,
   "metadata": {},
   "outputs": [],
   "source": [
    "num_workers = 1000 #Number of functions (also number of processes)\n",
    "data_dim = 10\n",
    "part_size = 10 #size of partial sums\n",
    "num_iters = 5 #Number of trials"
   ]
  },
  {
   "cell_type": "code",
   "execution_count": 6,
   "metadata": {},
   "outputs": [],
   "source": [
    "#num_rep = 10 (to keep same size partial sums)\n",
    "#for LT codes each worker should compute 100 symbols to keep cost same/similar"
   ]
  },
  {
   "cell_type": "code",
   "execution_count": 7,
   "metadata": {},
   "outputs": [],
   "source": [
    "encoders = {'Unc': rep_enc, 'Rep': rep_enc, 'BCC':bcc_enc, 'LT':lt_enc, 'SR':sr_enc}\n",
    "decoders = {'Unc': rep_dec, 'Rep': rep_dec, 'BCC':bcc_dec, 'LT':lt_dec, 'SR':sr_dec}"
   ]
  },
  {
   "cell_type": "code",
   "execution_count": 8,
   "metadata": {},
   "outputs": [],
   "source": [
    "X = np.random.uniform(low=0, high=10, size=(num_workers,data_dim)) #Input matrix"
   ]
  },
  {
   "cell_type": "code",
   "execution_count": 9,
   "metadata": {},
   "outputs": [],
   "source": [
    "scheme_times = {'One': [], 'Unc': [], 'Rep': [], 'BCC':[], 'LT':[], 'SR':[]}\n",
    "scheme_comps = {'One': [], 'Unc': [], 'Rep': [], 'BCC':[], 'LT':[], 'SR':[]}"
   ]
  },
  {
   "cell_type": "code",
   "execution_count": 10,
   "metadata": {},
   "outputs": [
    {
     "name": "stdout",
     "output_type": "stream",
     "text": [
      "SR\n",
      "LT\n",
      "Unc\n",
      "Rep\n",
      "BCC\n"
     ]
    }
   ],
   "source": [
    "for scheme in schemes_list:\n",
    "    \n",
    "    if scheme == 'One':\n",
    "        one_comp(scheme_times, scheme_comps)\n",
    "        continue\n",
    "    \n",
    "    print (scheme)\n",
    "    \n",
    "    #Generating Encodings and creating process pool\n",
    "    \n",
    "    if scheme == 'Unc':\n",
    "        enc_all = encoders[scheme](num_workers,1)\n",
    "    else:\n",
    "        enc_all = encoders[scheme](num_workers,part_size)\n",
    "    \n",
    "    pool = Pool(num_workers)\n",
    "    \n",
    "    for i in range(num_iters):\n",
    "        \n",
    "        #Mapping tasks to workers and collecting results\n",
    "        worker_args_list = [(X,enc_list,i) for enc_list in enc_all]\n",
    "        results = pool.map(worker_func, worker_args_list)\n",
    "        worker_dict_all = {}\n",
    "        start_time = min([results[w][1] for w in range(num_workers)]) #Global start time\n",
    "\n",
    "        for w in range(num_workers):\n",
    "            for w_c in results[w][2]:\n",
    "                t = w_c[0] - start_time\n",
    "                enc_sym = w_c[1]\n",
    "                val = w_c[2]\n",
    "                worker_dict_all[t] = enc_sym\n",
    "        \n",
    "        arrival_times = sorted(worker_dict_all.keys())\n",
    "        dec_list = [worker_dict_all[t] for t in arrival_times]\n",
    "        stop_ind = decoders[scheme](dec_list,num_workers)\n",
    "        stop_time = arrival_times[stop_ind]\n",
    "        num_comps = 0\n",
    "        \n",
    "        for t in arrival_times:\n",
    "            \n",
    "            if t > stop_time:\n",
    "                break\n",
    "            \n",
    "            num_comps += len(worker_dict_all[t])\n",
    "        \n",
    "        scheme_times[scheme].append(stop_time)\n",
    "        scheme_comps[scheme].append(num_comps)\n",
    "        \n",
    "    pool.close()"
   ]
  },
  {
   "cell_type": "code",
   "execution_count": 11,
   "metadata": {},
   "outputs": [
    {
     "data": {
      "image/png": "[encoded data removed]",
      "text/plain": [
       "<Figure size 432x288 with 1 Axes>"
      ]
     },
     "metadata": {
      "needs_background": "light"
     },
     "output_type": "display_data"
    }
   ],
   "source": [
    "plt.figure()\n",
    "for scheme in schemes_list:\n",
    "    time_arr = np.array(scheme_times[scheme])\n",
    "    time_avg = np.mean(time_arr)\n",
    "    time_std = np.std(time_arr)\n",
    "    plt.bar(scheme,time_avg,yerr=time_std)\n",
    "plt.ylabel('Average Latency')\n",
    "plt.show()"
   ]
  },
  {
   "cell_type": "markdown",
   "metadata": {},
   "source": [
    "**SR-Coded computing has the lowest average latency**"
   ]
  },
  {
   "cell_type": "code",
   "execution_count": 14,
   "metadata": {},
   "outputs": [],
   "source": [
    "with open('multiproc_times.pkl', 'wb') as f:\n",
    "    pickle.dump(scheme_times, f)"
   ]
  },
  {
   "cell_type": "code",
   "execution_count": null,
   "metadata": {},
   "outputs": [],
   "source": [
    "# plt.figure()\n",
    "# for scheme in schemes_list:\n",
    "#     comp_arr = np.array(scheme_comps[scheme])\n",
    "#     comp_avg = np.mean(comp_arr)\n",
    "#     comp_std = np.std(comp_arr)\n",
    "#     plt.bar(scheme,comp_avg,yerr=comp_std)\n",
    "# plt.ylabel('Computations')\n",
    "# plt.show()"
   ]
  },
  {
   "cell_type": "code",
   "execution_count": 13,
   "metadata": {},
   "outputs": [
    {
     "data": {
      "text/plain": [
       "{'One': [0.008189000000129454,\n",
       "  0.007896999999957188,\n",
       "  0.007335999999895648,\n",
       "  0.007348000000092725,\n",
       "  0.007320000000163418],\n",
       " 'Unc': [0.014669000000000001,\n",
       "  0.014790999999999999,\n",
       "  0.014987999999999998,\n",
       "  0.015029999999999998,\n",
       "  0.015437999999999997],\n",
       " 'Rep': [0.018208, 0.018255, 0.018098999999999997, 0.018153, 0.018166],\n",
       " 'BCC': [0.015149000000000003,\n",
       "  0.015183999999999996,\n",
       "  0.015113000000000001,\n",
       "  0.015167,\n",
       "  0.015047999999999999],\n",
       " 'LT': [0.002854999999999999,\n",
       "  0.005732000000000001,\n",
       "  0.006763999999999999,\n",
       "  0.00927399999999999,\n",
       "  0.012998999999999997],\n",
       " 'SR': [0.0037089999999999988,\n",
       "  0.005963999999999997,\n",
       "  0.006300000000000007,\n",
       "  0.007684999999999997,\n",
       "  0.00707300000000001]}"
      ]
     },
     "execution_count": 13,
     "metadata": {},
     "output_type": "execute_result"
    }
   ],
   "source": [
    "scheme_times"
   ]
  },
  {
   "cell_type": "code",
   "execution_count": null,
   "metadata": {},
   "outputs": [],
   "source": []
  }
 ],
 "metadata": {
  "kernelspec": {
   "display_name": "Python 3",
   "language": "python",
   "name": "python3"
  },
  "language_info": {
   "codemirror_mode": {
    "name": "ipython",
    "version": 3
   },
   "file_extension": ".py",
   "mimetype": "text/x-python",
   "name": "python",
   "nbconvert_exporter": "python",
   "pygments_lexer": "ipython3",
   "version": "3.6.9"
  }
 },
 "nbformat": 4,
 "nbformat_minor": 4
}
