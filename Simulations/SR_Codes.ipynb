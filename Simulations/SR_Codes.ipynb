{
 "cells": [
  {
   "cell_type": "code",
   "execution_count": 1,
   "metadata": {},
   "outputs": [],
   "source": [
    "import numpy as np\n",
    "import matplotlib.pyplot as plt\n",
    "import pickle"
   ]
  },
  {
   "cell_type": "code",
   "execution_count": 2,
   "metadata": {},
   "outputs": [],
   "source": [
    "def get_tail(vect):\n",
    "    probs, bin_edges = np.histogram(vect,bins=20,density=False)\n",
    "    tail = np.cumsum(probs[::-1])[::-1]/vect.shape[0]\n",
    "    return tail,bin_edges"
   ]
  },
  {
   "cell_type": "code",
   "execution_count": 3,
   "metadata": {},
   "outputs": [],
   "source": [
    "def get_rep_time(times):\n",
    "    return times.reshape(int(times.shape[0]/num_rep),num_rep).min(1).max(0)"
   ]
  },
  {
   "cell_type": "code",
   "execution_count": 4,
   "metadata": {},
   "outputs": [],
   "source": [
    "def check_soln(A,b):\n",
    "    return np.linalg.matrix_rank(A) == np.linalg.matrix_rank(np.concatenate([A,b],1))"
   ]
  },
  {
   "cell_type": "code",
   "execution_count": 5,
   "metadata": {},
   "outputs": [],
   "source": [
    "def check_rank(A):\n",
    "    return np.linalg.matrix_rank(A) == A.shape[1]"
   ]
  },
  {
   "cell_type": "code",
   "execution_count": 6,
   "metadata": {},
   "outputs": [],
   "source": [
    "def get_worker_rows(worker_num,start_time,max_num):\n",
    "    worker_dict = {}\n",
    "    ind_vect = np.delete(np.arange(num_workers),worker_num)\n",
    "    np.random.shuffle(ind_vect)\n",
    "    for ctr in range(0,max_num,sr_deg):\n",
    "        if ctr == 0:\n",
    "            time_key = start_time + comp_time\n",
    "            worker_dict[time_key] = np.asarray([worker_num])\n",
    "        else:\n",
    "            start_pos = ctr - sr_deg\n",
    "            end_pos = min(ctr,max_num-1)\n",
    "            time_key += (end_pos-start_pos)*comp_time\n",
    "            worker_dict[time_key] = ind_vect[start_pos:end_pos]\n",
    "    return worker_dict"
   ]
  },
  {
   "cell_type": "code",
   "execution_count": 7,
   "metadata": {},
   "outputs": [],
   "source": [
    "def sr_simulator(times,max_num):\n",
    "  \n",
    "    worker_dicts_list = [get_worker_rows(worker_num,times[worker_num],max_num) for worker_num in range(num_workers)]\n",
    "    worker_dict_all = {key: val for worker_dict in worker_dicts_list for key, val in worker_dict.items()}\n",
    "    b = np.ones(num_workers).reshape((-1,1))\n",
    "    A = None\n",
    "    cc_flag = False\n",
    "    one_flag = False\n",
    "    rank_flag = False\n",
    "    time_list = sorted(worker_dict_all.keys())\n",
    "    time_ind = 0\n",
    "\n",
    "    #Collecting All Rows\n",
    "    while not cc_flag:\n",
    "        time = time_list[time_ind]\n",
    "        v = np.zeros((1,num_workers))\n",
    "        v[0][worker_dict_all[time]] = 1\n",
    "        if A is None:\n",
    "            A = v\n",
    "            A_sum = v\n",
    "        else:\n",
    "            A = np.concatenate([A,v],0)\n",
    "            A_sum += v  \n",
    "        cc_flag = np.all((A_sum > 0))\n",
    "        time_ind += 1  \n",
    "\n",
    "    if not cc_flag:\n",
    "        print ('CC ERROR')\n",
    "        return\n",
    "\n",
    "    cc_ind = time_ind - 1\n",
    "    cc_time = time_list[cc_ind]\n",
    "  \n",
    "    #Spanning all 1s vector\n",
    "    while not one_flag:\n",
    "        time = time_list[time_ind]\n",
    "        v = np.zeros((1,num_workers))\n",
    "        v[0][worker_dict_all[time]] = 1\n",
    "        A = np.concatenate([A,v],0)\n",
    "        one_flag = check_soln(A.T,b)\n",
    "        time_ind += 1 \n",
    "  \n",
    "    if not one_flag:\n",
    "        print ('ONE ERROR')\n",
    "        return\n",
    "    \n",
    "    one_ind = time_ind - 1\n",
    "    one_time = time_list[one_ind]\n",
    "\n",
    "    #Constructing a f.c.r matrix\n",
    "    while not rank_flag:\n",
    "        time = time_list[time_ind]\n",
    "        v = np.zeros((1,num_workers))\n",
    "        v[0][worker_dict_all[time]] = 1\n",
    "        A = np.concatenate([A,v],0)\n",
    "        rank_flag = check_rank(A)\n",
    "        time_ind += 1 \n",
    "\n",
    "    if not rank_flag:\n",
    "        print ('RANK ERROR')\n",
    "        return\n",
    "\n",
    "    rank_ind = time_ind - 1\n",
    "    rank_time = time_list[rank_ind]\n",
    "  \n",
    "    return (cc_time,one_time,rank_time), (cc_ind,one_ind,rank_ind)\n",
    "  "
   ]
  },
  {
   "cell_type": "code",
   "execution_count": 8,
   "metadata": {},
   "outputs": [],
   "source": [
    "comp_time = 0.005\n",
    "exp_rate = 0.2\n",
    "num_workers = 1000\n",
    "num_trials = 100\n",
    "sr_deg = 10"
   ]
  },
  {
   "cell_type": "code",
   "execution_count": 9,
   "metadata": {},
   "outputs": [],
   "source": [
    "max_num_list = [100,400,700,1000]\n",
    "SR_times = {}\n",
    "SR_inds = {}"
   ]
  },
  {
   "cell_type": "code",
   "execution_count": 10,
   "metadata": {},
   "outputs": [
    {
     "name": "stdout",
     "output_type": "stream",
     "text": [
      "0\n",
      "10\n",
      "20\n",
      "30\n",
      "40\n",
      "50\n",
      "60\n",
      "70\n",
      "80\n",
      "90\n",
      "0\n",
      "10\n",
      "20\n",
      "30\n",
      "40\n",
      "50\n",
      "60\n",
      "70\n",
      "80\n",
      "90\n",
      "0\n",
      "10\n",
      "20\n",
      "30\n",
      "40\n",
      "50\n",
      "60\n",
      "70\n",
      "80\n",
      "90\n",
      "0\n",
      "10\n",
      "20\n",
      "30\n",
      "40\n",
      "50\n",
      "60\n",
      "70\n",
      "80\n",
      "90\n"
     ]
    }
   ],
   "source": [
    "for max_num in max_num_list:\n",
    "    SR_times[max_num] = []\n",
    "    SR_inds[max_num] = []\n",
    "    for trial in range(num_trials):\n",
    "        if trial % 10 == 0:\n",
    "            print (trial)\n",
    "        setup_times = np.random.exponential(scale=1/exp_rate,size=num_workers)\n",
    "        #Sum-Recovery\n",
    "        time_tuple, ind_tuple = sr_simulator(setup_times,max_num)\n",
    "        SR_times[max_num].append(time_tuple)\n",
    "        SR_inds[max_num].append(ind_tuple)"
   ]
  },
  {
   "cell_type": "code",
   "execution_count": 11,
   "metadata": {},
   "outputs": [
    {
     "data": {
      "image/png": "[encoded data removed]",
      "text/plain": [
       "<Figure size 432x288 with 1 Axes>"
      ]
     },
     "metadata": {
      "needs_background": "light"
     },
     "output_type": "display_data"
    }
   ],
   "source": [
    "plt.figure()\n",
    "for key in SR_times:\n",
    "    tail,bin_edges = get_tail(np.asarray([time_tuple[1] for time_tuple in SR_times[key]]))\n",
    "    plt.plot(bin_edges[:-1],tail,label=key)\n",
    "plt.xlabel('t')\n",
    "plt.ylabel('Pr(T>t)')\n",
    "plt.legend()\n",
    "plt.show()"
   ]
  },
  {
   "cell_type": "code",
   "execution_count": 12,
   "metadata": {},
   "outputs": [
    {
     "data": {
      "image/png": "[encoded data removed]",
      "text/plain": [
       "<Figure size 432x288 with 1 Axes>"
      ]
     },
     "metadata": {
      "needs_background": "light"
     },
     "output_type": "display_data"
    }
   ],
   "source": [
    "num_tails = {}\n",
    "plt.figure()\n",
    "cc_tail, bin_edges = get_tail(np.asarray([code_tuple[0] for code_tuple in SR_inds[1000]]))\n",
    "plt.plot(bin_edges[:-1],cc_tail,label='CC')\n",
    "one_tail, bin_edges = get_tail(np.asarray([code_tuple[1] for code_tuple in SR_inds[1000]]))\n",
    "plt.plot(bin_edges[:-1],one_tail,label='One')\n",
    "rank_tail, bin_edges = get_tail(np.asarray([code_tuple[2] for code_tuple in SR_inds[1000]]))\n",
    "plt.plot(bin_edges[:-1],rank_tail,label='Rank')\n",
    "plt.legend()\n",
    "plt.show()"
   ]
  },
  {
   "cell_type": "code",
   "execution_count": 13,
   "metadata": {},
   "outputs": [],
   "source": [
    "with open('SR_times_exp.pkl', 'wb') as f:\n",
    "    pickle.dump(SR_times, f)"
   ]
  },
  {
   "cell_type": "code",
   "execution_count": 14,
   "metadata": {},
   "outputs": [],
   "source": [
    "with open('SR_inds_exp.pkl', 'wb') as f:\n",
    "    pickle.dump(SR_inds, f)"
   ]
  },
  {
   "cell_type": "code",
   "execution_count": 15,
   "metadata": {},
   "outputs": [],
   "source": [
    "max_num_list = [100,400,700,1000]\n",
    "SR_times = {}\n",
    "SR_inds = {}"
   ]
  },
  {
   "cell_type": "code",
   "execution_count": 16,
   "metadata": {},
   "outputs": [
    {
     "name": "stdout",
     "output_type": "stream",
     "text": [
      "0\n",
      "10\n",
      "20\n",
      "30\n",
      "40\n",
      "50\n",
      "60\n",
      "70\n",
      "80\n",
      "90\n",
      "0\n",
      "10\n",
      "20\n",
      "30\n",
      "40\n",
      "50\n",
      "60\n",
      "70\n",
      "80\n",
      "90\n",
      "0\n",
      "10\n",
      "20\n",
      "30\n",
      "40\n",
      "50\n",
      "60\n",
      "70\n",
      "80\n",
      "90\n",
      "0\n",
      "10\n",
      "20\n",
      "30\n",
      "40\n",
      "50\n",
      "60\n",
      "70\n",
      "80\n",
      "90\n"
     ]
    }
   ],
   "source": [
    "for max_num in max_num_list:\n",
    "    SR_times[max_num] = []\n",
    "    SR_inds[max_num] = []\n",
    "    for trial in range(num_trials):\n",
    "        if trial % 10 == 0:\n",
    "            print (trial)\n",
    "        setup_times = 1.0+np.random.pareto(a=1,size=num_workers)\n",
    "        #Sum-Recovery\n",
    "        time_tuple, ind_tuple = sr_simulator(setup_times,max_num)\n",
    "        SR_times[max_num].append(time_tuple)\n",
    "        SR_inds[max_num].append(ind_tuple)"
   ]
  },
  {
   "cell_type": "code",
   "execution_count": 17,
   "metadata": {},
   "outputs": [
    {
     "data": {
      "image/png": "[encoded data removed]",
      "text/plain": [
       "<Figure size 432x288 with 1 Axes>"
      ]
     },
     "metadata": {
      "needs_background": "light"
     },
     "output_type": "display_data"
    }
   ],
   "source": [
    "plt.figure()\n",
    "for key in SR_times:\n",
    "    tail,bin_edges = get_tail(np.asarray([time_tuple[1] for time_tuple in SR_times[key]]))\n",
    "    plt.plot(bin_edges[:-1],tail,label=key)\n",
    "plt.xlabel('t')\n",
    "plt.ylabel('Pr(T>t)')\n",
    "plt.legend()\n",
    "plt.show()"
   ]
  },
  {
   "cell_type": "code",
   "execution_count": 18,
   "metadata": {},
   "outputs": [
    {
     "data": {
      "image/png": "[encoded data removed]",
      "text/plain": [
       "<Figure size 432x288 with 1 Axes>"
      ]
     },
     "metadata": {
      "needs_background": "light"
     },
     "output_type": "display_data"
    }
   ],
   "source": [
    "num_tails = {}\n",
    "plt.figure()\n",
    "cc_tail, bin_edges = get_tail(np.asarray([code_tuple[0] for code_tuple in SR_inds[1000]]))\n",
    "plt.plot(bin_edges[:-1],cc_tail,label='CC')\n",
    "one_tail, bin_edges = get_tail(np.asarray([code_tuple[1] for code_tuple in SR_inds[1000]]))\n",
    "plt.plot(bin_edges[:-1],one_tail,label='One')\n",
    "rank_tail, bin_edges = get_tail(np.asarray([code_tuple[2] for code_tuple in SR_inds[1000]]))\n",
    "plt.plot(bin_edges[:-1],rank_tail,label='Rank')\n",
    "plt.legend()\n",
    "plt.show()"
   ]
  },
  {
   "cell_type": "code",
   "execution_count": 19,
   "metadata": {},
   "outputs": [],
   "source": [
    "with open('SR_times_par.pkl', 'wb') as f:\n",
    "    pickle.dump(SR_times, f)"
   ]
  },
  {
   "cell_type": "code",
   "execution_count": 20,
   "metadata": {},
   "outputs": [],
   "source": [
    "with open('SR_inds_par.pkl', 'wb') as f:\n",
    "    pickle.dump(SR_inds, f)"
   ]
  }
 ],
 "metadata": {
  "kernelspec": {
   "display_name": "Environment (conda_anaconda3)",
   "language": "python",
   "name": "conda_anaconda3"
  },
  "language_info": {
   "codemirror_mode": {
    "name": "ipython",
    "version": 3
   },
   "file_extension": ".py",
   "mimetype": "text/x-python",
   "name": "python",
   "nbconvert_exporter": "python",
   "pygments_lexer": "ipython3",
   "version": "3.6.9"
  }
 },
 "nbformat": 4,
 "nbformat_minor": 4
}
