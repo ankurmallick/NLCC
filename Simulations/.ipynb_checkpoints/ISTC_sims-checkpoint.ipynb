{
 "cells": [
  {
   "cell_type": "code",
   "execution_count": 1,
   "metadata": {},
   "outputs": [],
   "source": [
    "import numpy as np\n",
    "import matplotlib.pyplot as plt\n",
    "from funcs import *\n",
    "plt.style.use('publication')"
   ]
  },
  {
   "cell_type": "code",
   "execution_count": 2,
   "metadata": {},
   "outputs": [],
   "source": [
    "comp_time = 0.005\n",
    "exp_rate = 0.2\n",
    "num_workers = 1000\n",
    "num_trials = 100\n",
    "num_rep = 2 #Changing to 4 makes Rep beat 1"
   ]
  },
  {
   "cell_type": "code",
   "execution_count": 3,
   "metadata": {},
   "outputs": [],
   "source": [
    "# lt_decthresh = {'LT-1':np.load('encnum_1000.npy'),'LT-2':np.load('encnum_500.npy')}\n",
    "# lt_degrees = {'LT-1':np.load('degrees_1000.npy'),'LT-1':2*np.load('degrees_500.npy')}"
   ]
  },
  {
   "cell_type": "code",
   "execution_count": null,
   "metadata": {},
   "outputs": [],
   "source": [
    "keys_list = ['One','Unc', 'Rep', 'LT-1', 'LT-2']"
   ]
  },
  {
   "cell_type": "code",
   "execution_count": 4,
   "metadata": {},
   "outputs": [],
   "source": [
    "colors = {'One':'Black','Unc':'Orange','Rep':'Gold','LT-1':'Blue','LT-2':'Green'}\n",
    "linestyles = {'One':'-','Unc':'--','Rep':'-.','LT-1':'--','LT-2':'-'}\n",
    "markers = {'One':'s','Unc':'p','Rep':'8','LT-1':'>','LT-2':'o'}"
   ]
  },
  {
   "cell_type": "code",
   "execution_count": null,
   "metadata": {},
   "outputs": [],
   "source": [
    "latency_dict = {'One':[],'Unc':[],'Rep':[],'LT-1':[],'LT-2':[]}"
   ]
  },
  {
   "cell_type": "code",
   "execution_count": 6,
   "metadata": {},
   "outputs": [],
   "source": [
    "for trial in range(num_trials):\n",
    "    setup_times = np.random.exponential(scale=1/exp_rate,size=num_workers)\n",
    "    latency_dict['One'].append(setup_times[0]+num_workers*comp_time)\n",
    "    latency_dict['Unc'].append(setup_times.max()+comp_time)\n",
    "    latency_dict['Rep'].append(get_rep_time(setup_times+num_rep*comp_time,num_rep))\n",
    "latency_dict['LT-1'] = np.load('lt_exp_1000.npy').tolist()\n",
    "# latency_dict['LT-2'] = np.load('lt_exp_500.npy').tolist()"
   ]
  },
  {
   "cell_type": "code",
   "execution_count": 25,
   "metadata": {},
   "outputs": [
    {
     "data": {
      "image/png": "[encoded data removed]",
      "text/plain": [
       "<Figure size 576x432 with 1 Axes>"
      ]
     },
     "metadata": {
      "needs_background": "light"
     },
     "output_type": "display_data"
    }
   ],
   "source": [
    "latency_tails = {}\n",
    "plt.figure()\n",
    "for key in keys_list:\n",
    "    if len(latency_dict[key])>0:\n",
    "        tail,bin_edges = get_tail(np.asarray(latency_dict[key]))\n",
    "        plt.plot(bin_edges[:-1],tail,linestyle=linestyles[key],color=colors[key],marker=markers[key],label=key)\n",
    "plt.xscale('log')\n",
    "plt.xlabel('$t$')\n",
    "plt.xlim([0.02,100])\n",
    "plt.ylabel('$\\Pr(T>t)$')\n",
    "plt.legend(loc='lower left')\n",
    "plt.savefig('Plot_ppt_3.pdf')\n",
    "plt.show()"
   ]
  },
  {
   "cell_type": "code",
   "execution_count": null,
   "metadata": {},
   "outputs": [],
   "source": [
    "latency_dict = {'One':[],'Unc':[],'Rep':[],'LT-1':[],'LT-2':[]}"
   ]
  },
  {
   "cell_type": "code",
   "execution_count": null,
   "metadata": {},
   "outputs": [],
   "source": [
    "for trial in range(num_trials):\n",
    "    setup_times = 1.0+np.random.pareto(a=1,size=num_workers)\n",
    "    latency_dict['One'].append(setup_times[0]+num_workers*comp_time)\n",
    "    latency_dict['Unc'].append(setup_times.max()+comp_time)\n",
    "    latency_dict['Rep'].append(get_rep_time(setup_times+num_rep*comp_time,num_rep))\n",
    "latency_dict['LT-1'] = np.load('lt_par_1000.npy').tolist()\n",
    "# latency_dict['LT-2'] = np.load('lt_par_500.npy').tolist()"
   ]
  },
  {
   "cell_type": "code",
   "execution_count": null,
   "metadata": {},
   "outputs": [],
   "source": [
    "latency_tails = {}\n",
    "plt.figure()\n",
    "for key in keys_list:\n",
    "    if len(latency_dict[key])>0:\n",
    "        tail,bin_edges = get_tail(np.asarray(latency_dict[key]))\n",
    "        plt.plot(bin_edges[:-1],tail,linestyle=linestyles[key],color=colors[key],marker=markers[key],label=key)\n",
    "plt.xscale('log')\n",
    "plt.xlabel('$t$')\n",
    "plt.xlim([0.02,100])\n",
    "plt.ylabel('$\\Pr(T>t)$')\n",
    "plt.legend(loc='lower left')\n",
    "plt.savefig('Plot_ppt_4.pdf')\n",
    "plt.show()"
   ]
  },
  {
   "cell_type": "code",
   "execution_count": null,
   "metadata": {},
   "outputs": [],
   "source": [
    "#Lambda Plots\n",
    "plt.figure()\n",
    "pos_list = [0, 2, 4, 6]\n",
    "time_list = [7, 9, 5.3, 4.5]\n",
    "err_list = [0.56, 0.84, 0.74, 0.46]\n",
    "for (ctr,key) in enumerate(['One','Unc', 'Rep', 'LT-1']):\n",
    "    if len(latency_dict[key])>0:\n",
    "        plt.bar(pos_list[ctr], time_list[ctr], yerr = err_list[ctr], tick_label = key, color=colors[key])\n",
    "plt.xlabel('Computing Strategy')\n",
    "plt.ylabel('Time (in seconds)$')\n",
    "plt.savefig('Plot_ppt_5.pdf')\n",
    "plt.show()"
   ]
  },
  {
   "cell_type": "code",
   "execution_count": 8,
   "metadata": {},
   "outputs": [],
   "source": [
    "# latency_tails = {}\n",
    "# plt.figure()\n",
    "# for key in latency_dict:\n",
    "#     if len(latency_dict[key])>0:\n",
    "#         tail,bin_edges = get_tail(np.asarray(latency_dict[key]))\n",
    "#         plt.plot(bin_edges[:-1],tail,linestyle=linestyles[key],color=colors[key],marker=markers[key],label=key)\n",
    "# plt.xscale('log')\n",
    "# plt.xlabel('$t$')\n",
    "# plt.ylabel('$\\Pr(T>t)$')\n",
    "# plt.legend()\n",
    "# plt.savefig('Plot1_latency_exp.pdf')\n",
    "# plt.show()"
   ]
  },
  {
   "cell_type": "code",
   "execution_count": 9,
   "metadata": {},
   "outputs": [],
   "source": [
    "# latency_dict = {'One':[],'Unc':[],'Rep':[],'LT-1':[],'LT-2':[]}"
   ]
  },
  {
   "cell_type": "code",
   "execution_count": 10,
   "metadata": {},
   "outputs": [],
   "source": [
    "# for trial in range(num_trials):\n",
    "#     setup_times = 1.0+np.random.pareto(a=1,size=num_workers)\n",
    "#     latency_dict['One'].append(setup_times[0]+num_workers*comp_time)\n",
    "#     latency_dict['Unc'].append(setup_times.max()+comp_time)\n",
    "#     latency_dict['Rep'].append(get_rep_time(setup_times+num_rep*comp_time,num_rep))\n",
    "# latency_dict['LT-1'] = np.load('lt_par_1000.npy').tolist()\n",
    "# latency_dict['LT-2'] = np.load('lt_par_500.npy').tolist()"
   ]
  },
  {
   "cell_type": "code",
   "execution_count": 11,
   "metadata": {},
   "outputs": [],
   "source": [
    "# latency_tails = {}\n",
    "# plt.figure()\n",
    "# for key in latency_dict:\n",
    "#     if len(latency_dict[key])>0:\n",
    "#         tail,bin_edges = get_tail(np.asarray(latency_dict[key]))\n",
    "#         plt.plot(bin_edges[:-1],tail,linestyle=linestyles[key],color=colors[key],marker=markers[key],label=key)\n",
    "# plt.xscale('log')\n",
    "# plt.xlabel('$t$')\n",
    "# plt.ylabel('$\\Pr(T>t)$')\n",
    "# plt.legend()\n",
    "# plt.savefig('Plot2_latency_par.pdf')\n",
    "# plt.show()"
   ]
  },
  {
   "cell_type": "code",
   "execution_count": 12,
   "metadata": {},
   "outputs": [],
   "source": [
    "# 1.0+np.random.pareto(a=1,size=num_workers)"
   ]
  },
  {
   "cell_type": "code",
   "execution_count": 28,
   "metadata": {},
   "outputs": [
    {
     "data": {
      "text/plain": [
       "'/Users/amallic1/.matplotlib'"
      ]
     },
     "execution_count": 28,
     "metadata": {},
     "output_type": "execute_result"
    }
   ],
   "source": [
    "import matplotlib\n",
    "matplotlib.get_configdir()"
   ]
  },
  {
   "cell_type": "code",
   "execution_count": null,
   "metadata": {},
   "outputs": [],
   "source": []
  }
 ],
 "metadata": {
  "kernelspec": {
   "display_name": "Environment (conda_anaconda3)",
   "language": "python",
   "name": "conda_anaconda3"
  },
  "language_info": {
   "codemirror_mode": {
    "name": "ipython",
    "version": 3
   },
   "file_extension": ".py",
   "mimetype": "text/x-python",
   "name": "python",
   "nbconvert_exporter": "python",
   "pygments_lexer": "ipython3",
   "version": "3.6.9"
  }
 },
 "nbformat": 4,
 "nbformat_minor": 4
}
