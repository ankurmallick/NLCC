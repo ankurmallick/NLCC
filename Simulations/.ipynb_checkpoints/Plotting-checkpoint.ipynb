{
 "cells": [
  {
   "cell_type": "code",
   "execution_count": null,
   "metadata": {},
   "outputs": [],
   "source": [
    "import numpy as np\n",
    "import matplotlib.pyplot as plt\n",
    "import pickle\n",
    "from funcs import *\n",
    "plt.style.use('publication')"
   ]
  },
  {
   "cell_type": "code",
   "execution_count": null,
   "metadata": {},
   "outputs": [],
   "source": [
    "comp_time = 0.005\n",
    "exp_rate = 0.2\n",
    "num_workers = 1000\n",
    "num_trials = 100\n",
    "num_rep = 10 #Changing to 4 makes Rep beat 1 (10 in ITW 2 in ISTC)"
   ]
  },
  {
   "cell_type": "code",
   "execution_count": null,
   "metadata": {},
   "outputs": [],
   "source": [
    "colors = {'One':'Black','Unc':'Orange','Rep':'Brown', 'BCC': 'Purple', 'LT':'Blue','SR-1000':'Green','CC':'Magenta'}\n",
    "linestyles = {'One':'-','Unc':'--','Rep':'-.','BCC':':', 'LT':'--','SR-1000':'-','CC':':'}\n",
    "markers = {'One':'s','Unc':'p','Rep':'8','BCC':'1', 'LT':'v','SR-1000':'o','CC':'^'}"
   ]
  },
  {
   "cell_type": "code",
   "execution_count": null,
   "metadata": {},
   "outputs": [],
   "source": [
    "latency_dict = {'One':[],'Unc':[],'Rep':[], 'BCC': [], 'LT':[],'SR':[]}"
   ]
  },
  {
   "cell_type": "code",
   "execution_count": null,
   "metadata": {},
   "outputs": [],
   "source": [
    "for trial in range(num_trials):\n",
    "    setup_times = np.random.exponential(scale=1/exp_rate,size=num_workers)\n",
    "    latency_dict['One'].append(setup_times[0]+num_workers*comp_time)\n",
    "    latency_dict['Unc'].append(setup_times.max()+comp_time)\n",
    "    latency_dict['Rep'].append(get_rep_time(setup_times+num_rep*comp_time,num_rep))\n",
    "    latency_dict['BCC'].append(get_bcc_time(setup_times+num_rep*comp_time,num_rep))"
   ]
  },
  {
   "cell_type": "code",
   "execution_count": null,
   "metadata": {},
   "outputs": [],
   "source": [
    "with open('LT_times_exp.pkl', 'rb') as f:\n",
    "    latency_dict['LT'] = pickle.load(f)"
   ]
  },
  {
   "cell_type": "code",
   "execution_count": null,
   "metadata": {},
   "outputs": [],
   "source": [
    "with open('SR_times.pkl', 'rb') as f:\n",
    "    SR_times = pickle.load(f)\n",
    "latency_dict['SR-1000'] = [time_tuple[1] for time_tuple in SR_times[1000]]"
   ]
  },
  {
   "cell_type": "code",
   "execution_count": null,
   "metadata": {},
   "outputs": [],
   "source": [
    "latency_tails = {}\n",
    "plt.figure()\n",
    "for key in latency_dict:\n",
    "    if len(latency_dict[key])>0:\n",
    "        tail,bin_edges = get_tail(np.asarray(latency_dict[key]))\n",
    "        plt.plot(bin_edges[:-1],tail,linestyle=linestyles[key],color=colors[key],marker=markers[key],label=key)\n",
    "plt.xscale('log')\n",
    "plt.xlabel('$t$')\n",
    "plt.ylabel('$\\Pr(T>t)$')\n",
    "plt.legend()\n",
    "plt.savefig('Plots/Plot1_latency_exp.pdf')\n",
    "plt.show()"
   ]
  },
  {
   "cell_type": "code",
   "execution_count": null,
   "metadata": {},
   "outputs": [],
   "source": [
    "with open('SR_inds.pkl', 'rb') as f:\n",
    "    SR_inds = pickle.load(f)"
   ]
  },
  {
   "cell_type": "code",
   "execution_count": null,
   "metadata": {},
   "outputs": [],
   "source": [
    "plt.figure()\n",
    "keys = [100,400,700,1000]\n",
    "sr_linestyles = ['-.','--',':','-']\n",
    "sr_colors = ['gray','turquoise','gold','green']\n",
    "sr_markers = ['h','H','D','o']\n",
    "for ctr in range(4):\n",
    "    tail,bin_edges = get_tail(np.asarray([time_tuple[1] for time_tuple in SR_times[keys[ctr]]]))\n",
    "    plt.plot(bin_edges[:-1],tail,linestyle=sr_linestyles[ctr],color=sr_colors[ctr],marker=sr_markers[ctr],label='SR-'+str(keys[ctr]))\n",
    "tail,bin_edges = get_tail(np.asarray(latency_dict['LT']))\n",
    "plt.plot(bin_edges[:-1],tail,linestyle=linestyles['LT'],color=colors['LT'],marker=markers['LT'],label='LT') \n",
    "plt.xscale('log')\n",
    "plt.xlabel('$t$')\n",
    "plt.ylabel('$\\Pr(T>t)$')\n",
    "plt.legend()\n",
    "plt.savefig('Plots/Plot2_latencycomp_exp.pdf')\n",
    "plt.show()"
   ]
  },
  {
   "cell_type": "code",
   "execution_count": null,
   "metadata": {},
   "outputs": [],
   "source": [
    "plt.figure()\n",
    "\n",
    "key ='CC'\n",
    "cc_tail, bin_edges = get_tail(np.asarray([code_tuple[0] for code_tuple in SR_inds[1000]]))\n",
    "plt.plot(bin_edges[:-1],cc_tail,linestyle=linestyles[key],color=colors[key],marker=markers[key],label=key)\n",
    "\n",
    "key = 'SR-1000'\n",
    "one_tail, bin_edges = get_tail(np.asarray([code_tuple[1] for code_tuple in SR_inds[1000]]))\n",
    "plt.plot(bin_edges[:-1],one_tail,linestyle=linestyles[key],color=colors[key],marker=markers[key],label=key)\n",
    "\n",
    "key = 'Full Rank'\n",
    "# lt_tail, bin_edges = get_tail(np.load('encnum_1000.npy')[:100])\n",
    "fcr_tail, bin_edges = get_tail(np.asarray([code_tuple[2] for code_tuple in SR_inds[1000]]))\n",
    "plt.plot(bin_edges[:-1],one_tail,linestyle=linestyles[key],color=colors[key],marker=markers[key],label=key)\n",
    "\n",
    "# plt.xscale('log')\n",
    "plt.xlabel('$m$')\n",
    "plt.ylabel('$\\Pr(M\\'>m)$')\n",
    "plt.legend()\n",
    "plt.savefig('Plots/Plot3_numtails_exp.pdf')\n",
    "plt.show()"
   ]
  },
  {
   "cell_type": "code",
   "execution_count": null,
   "metadata": {},
   "outputs": [],
   "source": [
    "latency_dict = {'One':[],'Unc':[],'Rep':[], 'BCC': [], 'LT':[],'SR':[]}"
   ]
  },
  {
   "cell_type": "code",
   "execution_count": null,
   "metadata": {},
   "outputs": [],
   "source": [
    "for trial in range(num_trials):\n",
    "    setup_times = 1.0+np.random.pareto(a=1,size=num_workers)\n",
    "    latency_dict['One'].append(setup_times[0]+num_workers*comp_time)\n",
    "    latency_dict['Unc'].append(setup_times.max()+comp_time)\n",
    "    latency_dict['Rep'].append(get_rep_time(setup_times+num_rep*comp_time,num_rep))\n",
    "    latency_dict['BCC'].append(get_bcc_time(setup_times+num_rep*comp_time,num_rep))"
   ]
  },
  {
   "cell_type": "code",
   "execution_count": null,
   "metadata": {},
   "outputs": [],
   "source": [
    "with open('LT_times_par.pkl', 'rb') as f:\n",
    "    latency_dict['LT'] = pickle.load(f)"
   ]
  },
  {
   "cell_type": "code",
   "execution_count": null,
   "metadata": {},
   "outputs": [],
   "source": [
    "with open('SR_times_par.pkl', 'rb') as f:\n",
    "    SR_times = pickle.load(f)\n",
    "latency_dict['SR-1000'] = [time_tuple[1] for time_tuple in SR_times[1000]]"
   ]
  },
  {
   "cell_type": "code",
   "execution_count": null,
   "metadata": {},
   "outputs": [],
   "source": [
    "latency_tails = {}\n",
    "plt.figure()\n",
    "for key in latency_dict:\n",
    "    if len(latency_dict[key])>0:\n",
    "        tail,bin_edges = get_tail(np.asarray(latency_dict[key]))\n",
    "        plt.plot(bin_edges[:-1],tail,linestyle=linestyles[key],color=colors[key],marker=markers[key],label=key)\n",
    "plt.xscale('log')\n",
    "plt.xlabel('$t$')\n",
    "plt.ylabel('$\\Pr(T>t)$')\n",
    "plt.legend()\n",
    "plt.savefig('Plots/Plot1_latency_par.pdf')\n",
    "plt.show()"
   ]
  }
 ],
 "metadata": {
  "kernelspec": {
   "display_name": "Environment (conda_anaconda3)",
   "language": "python",
   "name": "conda_anaconda3"
  },
  "language_info": {
   "codemirror_mode": {
    "name": "ipython",
    "version": 3
   },
   "file_extension": ".py",
   "mimetype": "text/x-python",
   "name": "python",
   "nbconvert_exporter": "python",
   "pygments_lexer": "ipython3",
   "version": "3.6.9"
  }
 },
 "nbformat": 4,
 "nbformat_minor": 4
}
